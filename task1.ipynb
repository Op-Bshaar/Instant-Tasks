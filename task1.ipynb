{
  "cells": [
    {
      "cell_type": "code",
      "execution_count": null,
      "metadata": {
        "id": "3NuPgywVVT-X"
      },
      "outputs": [],
      "source": []
    },
    {
      "cell_type": "markdown",
      "metadata": {
        "id": "yGQ0PxZIWP0v"
      },
      "source": [
        "## **1- Write a Python program to find the area of a triangle**"
      ]
    },
    {
      "cell_type": "code",
      "execution_count": 2,
      "metadata": {
        "id": "fVEa_BPoWYPd"
      },
      "outputs": [
        {
          "name": "stdout",
          "output_type": "stream",
          "text": [
            "The area of triangle is 1.0\n"
          ]
        }
      ],
      "source": [
        "height = int(input(\"please enter the height \"))\n",
        "base = int(input(\"please enter the base \"))\n",
        "result  = 0.5*height*base\n",
        "print(f\"The area of triangle is {result}\")"
      ]
    },
    {
      "cell_type": "markdown",
      "metadata": {
        "id": "3DD6RrL1Wa65"
      },
      "source": [
        "# **2- Write a Python program to swap two variables.**\n"
      ]
    },
    {
      "cell_type": "code",
      "execution_count": 3,
      "metadata": {
        "id": "8A-qk-XGWmrK"
      },
      "outputs": [
        {
          "name": "stdout",
          "output_type": "stream",
          "text": [
            "5\n",
            "1\n"
          ]
        }
      ],
      "source": [
        "x,y = 1,5\n",
        "x,y = y,x\n",
        "\n",
        "print(x)\n",
        "print(y)"
      ]
    },
    {
      "cell_type": "markdown",
      "metadata": {
        "id": "NXzXheUIXDEf"
      },
      "source": [
        "# **3-Write a Python program to enter a number from user and convert this number from kilometers to miles.**\n"
      ]
    },
    {
      "cell_type": "code",
      "execution_count": 4,
      "metadata": {
        "id": "-hO2ACQCX8xA"
      },
      "outputs": [
        {
          "name": "stdout",
          "output_type": "stream",
          "text": [
            "kilometers is equall to 1.242742 miles\n"
          ]
        }
      ],
      "source": [
        "kilo = float(input(\"please enter kilometers \"))\n",
        "\n",
        "result = kilo*0.621371\n",
        "print(f\"kilometers is equall to {result} miles\")\n"
      ]
    },
    {
      "cell_type": "code",
      "execution_count": null,
      "metadata": {
        "id": "FVJxRVcj-FEu"
      },
      "outputs": [],
      "source": []
    }
  ],
  "metadata": {
    "colab": {
      "provenance": []
    },
    "kernelspec": {
      "display_name": "Python (base)",
      "language": "python",
      "name": "base"
    },
    "language_info": {
      "codemirror_mode": {
        "name": "ipython",
        "version": 3
      },
      "file_extension": ".py",
      "mimetype": "text/x-python",
      "name": "python",
      "nbconvert_exporter": "python",
      "pygments_lexer": "ipython3",
      "version": "3.13.1"
    }
  },
  "nbformat": 4,
  "nbformat_minor": 0
}
