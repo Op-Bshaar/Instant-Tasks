{
  "cells": [
    {
      "cell_type": "code",
      "execution_count": null,
      "metadata": {
        "id": "vs_SU3ng0tbN"
      },
      "outputs": [],
      "source": []
    },
    {
      "cell_type": "markdown",
      "metadata": {
        "id": "MnWAiH2o0zSa"
      },
      "source": [
        "\n",
        "# **WAP to enter a number from user and print its absolute value.**"
      ]
    },
    {
      "cell_type": "code",
      "execution_count": 2,
      "metadata": {
        "colab": {
          "base_uri": "https://localhost:8080/"
        },
        "id": "l3oLMLbk02Pj",
        "outputId": "16d128d7-7020-47e1-f316-f9e08574ab0c"
      },
      "outputs": [
        {
          "name": "stdout",
          "output_type": "stream",
          "text": [
            "1\n"
          ]
        }
      ],
      "source": [
        "number = int(input(\"enter a number :\"))\n",
        "if(number<0):\n",
        "  print(-number)\n",
        "else:\n",
        "  print(number)"
      ]
    },
    {
      "cell_type": "markdown",
      "metadata": {
        "id": "pOnjNwNx03Tr"
      },
      "source": [
        "# **WAP to enter a year from user and check if it is leap year or not.**"
      ]
    },
    {
      "cell_type": "code",
      "execution_count": null,
      "metadata": {
        "colab": {
          "base_uri": "https://localhost:8080/"
        },
        "id": "4PEtUTm51H6x",
        "outputId": "58499056-7265-44d5-9e79-933cc153a08b"
      },
      "outputs": [
        {
          "name": "stdout",
          "output_type": "stream",
          "text": [
            "enter a year to check it is a leap or not :2000\n",
            "2000 is a leap year\n"
          ]
        }
      ],
      "source": [
        "year = int(input(\"enter a year to check it is a leap or not :\"))\n",
        "if(year%4 == 0 and year %100 != 0)or(year%400 == 0):\n",
        "  print(f\"{year} is a leap year\")\n",
        "else:\n",
        "  print(f\"{year} not leap year\")"
      ]
    },
    {
      "cell_type": "markdown",
      "metadata": {
        "id": "sn-NADUn1VGn"
      },
      "source": [
        "# **WAP to enter the age of 3 person and print oldest and yougest among them.**"
      ]
    },
    {
      "cell_type": "code",
      "execution_count": null,
      "metadata": {
        "colab": {
          "base_uri": "https://localhost:8080/"
        },
        "id": "uNGWS1AT1cYP",
        "outputId": "7bd55fc4-3614-46c8-ac8c-b12c520567f1"
      },
      "outputs": [
        {
          "name": "stdout",
          "output_type": "stream",
          "text": [
            "enter the firstPerson 1\n",
            "enter the secondPerson 2\n",
            "enter the thirdPerson 3\n",
            "the youngest is 1 and the oldest is 3\n"
          ]
        }
      ],
      "source": [
        "def check_valid_age(person):\n",
        "  while True:\n",
        "   age = int(input(f\"enter the {person}\"))\n",
        "   if(age>0):\n",
        "    return age\n",
        "   else:\n",
        "    print(\"not valid age\")\n",
        "\n",
        "firstPerson = check_valid_age(\"firstPerson \")\n",
        "secondPerson = check_valid_age(\"secondPerson \")\n",
        "thirdPerson = check_valid_age(\"thirdPerson \")\n",
        "\n",
        "if(firstPerson<secondPerson and firstPerson<thirdPerson):\n",
        "  youngest = firstPerson\n",
        "elif(secondPerson<firstPerson and secondPerson<thirdPerson):\n",
        "  youngest = secondPerson\n",
        "else:\n",
        "  youngest = thirdPerson\n",
        "\n",
        "\n",
        "if(firstPerson>secondPerson and firstPerson>thirdPerson):\n",
        "  oldest = firstPerson\n",
        "elif(secondPerson>firstPerson and secondPerson>thirdPerson):\n",
        "  oldest = secondPerson\n",
        "else:\n",
        "  oldest = thirdPerson\n",
        "\n",
        "  print(f\"the youngest is {youngest} and the oldest is {oldest}\")\n",
        "\n",
        "\n"
      ]
    },
    {
      "cell_type": "markdown",
      "metadata": {
        "id": "XFRRNGVj1dEw"
      },
      "source": [
        "# **Write a program that asks the user to enter a series of numbers. The program should ask for numbers until the user enters a negative number. Once the user enters a negative number, the program should stop and print the sum of all the positive numbers entered**\n",
        "# **Example**\n",
        "# **Enter a number: 5**\n",
        "# **Enter a number: 8**\n",
        "# **Enter a number: 12**\n",
        "# **Enter a number: -2**\n",
        "# **The sum of the positive numbers is 25.**"
      ]
    },
    {
      "cell_type": "code",
      "execution_count": null,
      "metadata": {
        "colab": {
          "base_uri": "https://localhost:8080/"
        },
        "id": "ijp9SzHu2A3p",
        "outputId": "b3d89183-1fb9-48b0-9ad4-b2f9f41c872e"
      },
      "outputs": [
        {
          "name": "stdout",
          "output_type": "stream",
          "text": [
            "enter number 3\n",
            "enter number 3\n",
            "enter number -1\n",
            "the sum of the positive number is 6\n"
          ]
        }
      ],
      "source": [
        "sum = 0\n",
        "while(True):\n",
        "  number = int(input(\"enter number \"))\n",
        "  if(number<0):\n",
        "    break\n",
        "  sum+=number\n",
        "print(f\"the sum of the positive number is {sum}\")\n"
      ]
    },
    {
      "cell_type": "markdown",
      "metadata": {
        "id": "oODCHUj62DxA"
      },
      "source": [
        "# **Write a program that asks the user to enter their name and age. The program should check if the user's age is greater than or equal to 18. If it is, the program should print a message saying they are eligible to vote. Otherwise, the program should print a message saying they are not eligible to vote due to being underage.**"
      ]
    },
    {
      "cell_type": "code",
      "execution_count": null,
      "metadata": {
        "colab": {
          "base_uri": "https://localhost:8080/"
        },
        "id": "Svls1cLA2JVA",
        "outputId": "208c420a-7607-4c04-cd90-bcb2358b67e7"
      },
      "outputs": [
        {
          "name": "stdout",
          "output_type": "stream",
          "text": [
            "Enter your name bashar \n",
            "Enter your age 10\n",
            "bashar  you are not eligible to vote due to being underage\n"
          ]
        }
      ],
      "source": [
        "name = input(\"Enter your name \")\n",
        "age =int(input(\"Enter your age \"))\n",
        "\n",
        "if(age>=18):\n",
        "  print(f\"{name}eligible to vote\")\n",
        "else:\n",
        "  print(f\"{name} you are not eligible to vote due to being underage\")"
      ]
    },
    {
      "cell_type": "markdown",
      "metadata": {
        "id": "2y5o5SqL3nvL"
      },
      "source": [
        "# **Write a Python Program to Find the Factorial of a Number**"
      ]
    },
    {
      "cell_type": "code",
      "execution_count": 5,
      "metadata": {
        "colab": {
          "base_uri": "https://localhost:8080/"
        },
        "id": "Q_v3ns1D3tgy",
        "outputId": "3de166f7-935a-4a27-bf5e-64e838e4d37b"
      },
      "outputs": [
        {
          "name": "stdout",
          "output_type": "stream",
          "text": [
            "479001600\n"
          ]
        }
      ],
      "source": [
        "def fact(num):\n",
        "  if(num == 0 or num == 1):\n",
        "     return 1\n",
        "  else:\n",
        "    return(num*fact(num-1))\n",
        "num = int(input(\"enter a number \"))\n",
        "if(num<0):\n",
        "  print(\"enter a number that is greater that 0\")\n",
        "else:\n",
        "  result = fact(num)\n",
        "  print(result)"
      ]
    },
    {
      "cell_type": "code",
      "execution_count": null,
      "metadata": {
        "id": "cBIXwZqWPbY1"
      },
      "outputs": [],
      "source": []
    }
  ],
  "metadata": {
    "colab": {
      "provenance": []
    },
    "kernelspec": {
      "display_name": "Python (base)",
      "language": "python",
      "name": "base"
    },
    "language_info": {
      "codemirror_mode": {
        "name": "ipython",
        "version": 3
      },
      "file_extension": ".py",
      "mimetype": "text/x-python",
      "name": "python",
      "nbconvert_exporter": "python",
      "pygments_lexer": "ipython3",
      "version": "3.13.1"
    }
  },
  "nbformat": 4,
  "nbformat_minor": 0
}
