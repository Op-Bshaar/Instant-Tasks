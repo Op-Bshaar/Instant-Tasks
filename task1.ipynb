{
  "nbformat": 4,
  "nbformat_minor": 0,
  "metadata": {
    "colab": {
      "provenance": []
    },
    "kernelspec": {
      "name": "python3",
      "display_name": "Python 3"
    },
    "language_info": {
      "name": "python"
    }
  },
  "cells": [
    {
      "cell_type": "code",
      "execution_count": null,
      "metadata": {
        "id": "3NuPgywVVT-X"
      },
      "outputs": [],
      "source": []
    },
    {
      "cell_type": "markdown",
      "source": [
        "## **1- Write a Python program to find the area of a triangle**"
      ],
      "metadata": {
        "id": "yGQ0PxZIWP0v"
      }
    },
    {
      "cell_type": "code",
      "source": [
        "height = int(input(\"please enter the height \"))\n",
        "base = int(input(\"please enter the base \"))\n",
        "result  = 0.5*height*base\n",
        "print(f\"The area of triangle is {result}\")"
      ],
      "metadata": {
        "id": "fVEa_BPoWYPd"
      },
      "execution_count": null,
      "outputs": []
    },
    {
      "cell_type": "markdown",
      "source": [
        "# **2- Write a Python program to swap two variables.**\n"
      ],
      "metadata": {
        "id": "3DD6RrL1Wa65"
      }
    },
    {
      "cell_type": "code",
      "source": [
        "x,y = 1,5\n",
        "x,y = y,x\n",
        "\n",
        "print(x)\n",
        "print(y)"
      ],
      "metadata": {
        "id": "8A-qk-XGWmrK"
      },
      "execution_count": null,
      "outputs": []
    },
    {
      "cell_type": "markdown",
      "source": [
        "# **3-Write a Python program to enter a number from user and convert this number from kilometers to miles.**\n"
      ],
      "metadata": {
        "id": "NXzXheUIXDEf"
      }
    },
    {
      "cell_type": "code",
      "source": [
        "kilo = float(input(\"please enter kilometers \"))\n",
        "\n",
        "result = kilo*0.621371\n",
        "print(f\"kilometers is equall to {result} miles\")\n"
      ],
      "metadata": {
        "id": "-hO2ACQCX8xA"
      },
      "execution_count": null,
      "outputs": []
    },
    {
      "cell_type": "code",
      "source": [],
      "metadata": {
        "id": "FVJxRVcj-FEu"
      },
      "execution_count": null,
      "outputs": []
    }
  ]
}